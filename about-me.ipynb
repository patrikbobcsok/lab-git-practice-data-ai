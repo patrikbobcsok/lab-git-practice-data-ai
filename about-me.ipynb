{
 "cells": [
  {
   "cell_type": "markdown",
   "metadata": {},
   "source": [
    "## About Me Lab: AI Engineering, Data Analytics & Data Science\n",
    "\n",
    "In this notebook, you'll write a short introduction about yourself using Python!\n",
    "\n",
    "### Instructions:\n",
    "- Fill in the variables below with your details.\n",
    "- Run the cell to print your introduction.\n",
    "\n",
    "### What to Include:\n",
    "- Your name.\n",
    "- Why you're interested in AI Engineering, Data Analytics or Data Science.\n",
    "- A fun fact about yourself or a goal for this course.\n"
   ]
  },
  {
   "cell_type": "code",
   "execution_count": 1,
   "metadata": {},
   "outputs": [
    {
     "name": "stdout",
     "output_type": "stream",
     "text": [
      "Hi! My name is Patrik-Jordy-Johhan Bobcsok. I’m excited to learn because I find it intresting how AI is used not only in different industries but also in our daily lives, and I want to learn how it works. A fun fact about me is: I am curioushow things are made and how they work.\n"
     ]
    }
   ],
   "source": [
    "# About Me\n",
    "# Please fill in the following details.\n",
    "\n",
    "name = \"Patrik-Jordy-Johhan Bobcsok\"\n",
    "reason = \"I find it intresting how AI is used not only in different industries but also in our daily lives, and I want to learn how it works\"\n",
    "fun_fact = \"I am curioushow things are made and how they work\"\n",
    "\n",
    "print(f\"Hi! My name is {name}. I’m excited to learn because {reason}. A fun fact about me is: {fun_fact}.\")"
   ]
  },
  {
   "cell_type": "code",
   "execution_count": null,
   "metadata": {},
   "outputs": [],
   "source": []
  }
 ],
 "metadata": {
  "kernelspec": {
   "display_name": "Python [conda env:base] *",
   "language": "python",
   "name": "conda-base-py"
  },
  "language_info": {
   "codemirror_mode": {
    "name": "ipython",
    "version": 3
   },
   "file_extension": ".py",
   "mimetype": "text/x-python",
   "name": "python",
   "nbconvert_exporter": "python",
   "pygments_lexer": "ipython3",
   "version": "3.12.7"
  }
 },
 "nbformat": 4,
 "nbformat_minor": 4
}
